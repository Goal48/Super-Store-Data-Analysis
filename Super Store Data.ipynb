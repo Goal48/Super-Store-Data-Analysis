{
 "cells": [
  {
   "cell_type": "markdown",
   "id": "bdcf9802",
   "metadata": {},
   "source": [
    "# EXPLORATORY DATA ANALYSIS"
   ]
  },
  {
   "cell_type": "markdown",
   "id": "a34dd853",
   "metadata": {},
   "source": [
    "In this dataset, we have many features like ship mode, Segment, country, City, State, Postal code, Region, category, sub-category, sales, Quantity, discount, and the Dependent variable is profit. The remaining are independent variables.\n",
    "\n",
    "Here we will see for weak areas where there is less profit and will see how to overcome it"
   ]
  },
  {
   "cell_type": "markdown",
   "id": "6fc24a5a",
   "metadata": {},
   "source": [
    "### Objectives\n",
    "* Working with dataset\n",
    "* Creating loss dataframe\n",
    "* Data Visualization\n",
    "* Analysis from Heatmap"
   ]
  },
  {
   "cell_type": "markdown",
   "id": "c55ef51e",
   "metadata": {},
   "source": [
    "### Importing Libraries"
   ]
  },
  {
   "cell_type": "code",
   "execution_count": 1,
   "id": "7dc1c5c6",
   "metadata": {},
   "outputs": [],
   "source": [
    "import numpy as np\n",
    "import pandas as pd\n",
    "import matplotlib.pyplot as plt\n",
    "import seaborn as sns"
   ]
  },
  {
   "cell_type": "markdown",
   "id": "4b15befc",
   "metadata": {},
   "source": [
    "### Load the dataset and view first 5 rows"
   ]
  },
  {
   "cell_type": "code",
   "execution_count": 2,
   "id": "4d14867e",
   "metadata": {},
   "outputs": [
    {
     "data": {
      "text/html": [
       "<div>\n",
       "<style scoped>\n",
       "    .dataframe tbody tr th:only-of-type {\n",
       "        vertical-align: middle;\n",
       "    }\n",
       "\n",
       "    .dataframe tbody tr th {\n",
       "        vertical-align: top;\n",
       "    }\n",
       "\n",
       "    .dataframe thead th {\n",
       "        text-align: right;\n",
       "    }\n",
       "</style>\n",
       "<table border=\"1\" class=\"dataframe\">\n",
       "  <thead>\n",
       "    <tr style=\"text-align: right;\">\n",
       "      <th></th>\n",
       "      <th>Order ID</th>\n",
       "      <th>Order Date</th>\n",
       "      <th>Ship Date</th>\n",
       "      <th>Ship Mode</th>\n",
       "      <th>Customer ID</th>\n",
       "      <th>Customer Name</th>\n",
       "      <th>Segment</th>\n",
       "      <th>Country</th>\n",
       "      <th>City</th>\n",
       "      <th>State</th>\n",
       "      <th>Postal Code</th>\n",
       "      <th>Region</th>\n",
       "      <th>Product ID</th>\n",
       "      <th>Category</th>\n",
       "      <th>Sub-Category</th>\n",
       "      <th>Product Name</th>\n",
       "      <th>Sales</th>\n",
       "      <th>Quantity</th>\n",
       "      <th>Discount</th>\n",
       "      <th>Profit</th>\n",
       "    </tr>\n",
       "  </thead>\n",
       "  <tbody>\n",
       "    <tr>\n",
       "      <th>0</th>\n",
       "      <td>US-2017-102638</td>\n",
       "      <td>2017-12-29</td>\n",
       "      <td>2017-12-31</td>\n",
       "      <td>First Class</td>\n",
       "      <td>MC-17845</td>\n",
       "      <td>Michael Chen</td>\n",
       "      <td>Consumer</td>\n",
       "      <td>United States</td>\n",
       "      <td>New York City</td>\n",
       "      <td>New York</td>\n",
       "      <td>10035</td>\n",
       "      <td>East</td>\n",
       "      <td>OFF-FA-10002988</td>\n",
       "      <td>Office Supplies</td>\n",
       "      <td>Fasteners</td>\n",
       "      <td>Ideal Clamps</td>\n",
       "      <td>6.030</td>\n",
       "      <td>3</td>\n",
       "      <td>0.0</td>\n",
       "      <td>2.9547</td>\n",
       "    </tr>\n",
       "    <tr>\n",
       "      <th>1</th>\n",
       "      <td>US-2017-162068</td>\n",
       "      <td>2017-12-28</td>\n",
       "      <td>2017-12-31</td>\n",
       "      <td>Second Class</td>\n",
       "      <td>PC-18745</td>\n",
       "      <td>Pamela Coakley</td>\n",
       "      <td>Corporate</td>\n",
       "      <td>United States</td>\n",
       "      <td>Loveland</td>\n",
       "      <td>Colorado</td>\n",
       "      <td>80538</td>\n",
       "      <td>West</td>\n",
       "      <td>OFF-BI-10002813</td>\n",
       "      <td>Office Supplies</td>\n",
       "      <td>Binders</td>\n",
       "      <td>Avery Reinforcements for Hole-Punch Pages</td>\n",
       "      <td>1.188</td>\n",
       "      <td>2</td>\n",
       "      <td>0.7</td>\n",
       "      <td>-0.9900</td>\n",
       "    </tr>\n",
       "    <tr>\n",
       "      <th>2</th>\n",
       "      <td>CA-2017-101322</td>\n",
       "      <td>2017-12-28</td>\n",
       "      <td>2017-12-31</td>\n",
       "      <td>First Class</td>\n",
       "      <td>JG-15310</td>\n",
       "      <td>Jason Gross</td>\n",
       "      <td>Corporate</td>\n",
       "      <td>United States</td>\n",
       "      <td>Long Beach</td>\n",
       "      <td>California</td>\n",
       "      <td>90805</td>\n",
       "      <td>West</td>\n",
       "      <td>FUR-CH-10003968</td>\n",
       "      <td>Furniture</td>\n",
       "      <td>Chairs</td>\n",
       "      <td>Novimex Turbo Task Chair</td>\n",
       "      <td>340.704</td>\n",
       "      <td>6</td>\n",
       "      <td>0.2</td>\n",
       "      <td>-34.0704</td>\n",
       "    </tr>\n",
       "    <tr>\n",
       "      <th>3</th>\n",
       "      <td>CA-2017-134404</td>\n",
       "      <td>2017-12-27</td>\n",
       "      <td>2017-12-27</td>\n",
       "      <td>Same Day</td>\n",
       "      <td>DR-12880</td>\n",
       "      <td>Dan Reichenbach</td>\n",
       "      <td>Corporate</td>\n",
       "      <td>United States</td>\n",
       "      <td>Newark</td>\n",
       "      <td>Ohio</td>\n",
       "      <td>43055</td>\n",
       "      <td>East</td>\n",
       "      <td>TEC-PH-10000576</td>\n",
       "      <td>Technology</td>\n",
       "      <td>Phones</td>\n",
       "      <td>AT&amp;T 1080 Corded phone</td>\n",
       "      <td>164.388</td>\n",
       "      <td>2</td>\n",
       "      <td>0.4</td>\n",
       "      <td>-35.6174</td>\n",
       "    </tr>\n",
       "    <tr>\n",
       "      <th>4</th>\n",
       "      <td>CA-2017-134404</td>\n",
       "      <td>2017-12-27</td>\n",
       "      <td>2017-12-27</td>\n",
       "      <td>Same Day</td>\n",
       "      <td>DR-12880</td>\n",
       "      <td>Dan Reichenbach</td>\n",
       "      <td>Corporate</td>\n",
       "      <td>United States</td>\n",
       "      <td>Newark</td>\n",
       "      <td>Ohio</td>\n",
       "      <td>43055</td>\n",
       "      <td>East</td>\n",
       "      <td>OFF-AR-10004441</td>\n",
       "      <td>Office Supplies</td>\n",
       "      <td>Art</td>\n",
       "      <td>BIC Brite Liner Highlighters</td>\n",
       "      <td>13.248</td>\n",
       "      <td>4</td>\n",
       "      <td>0.2</td>\n",
       "      <td>3.6432</td>\n",
       "    </tr>\n",
       "  </tbody>\n",
       "</table>\n",
       "</div>"
      ],
      "text/plain": [
       "         Order ID Order Date  Ship Date     Ship Mode Customer ID  \\\n",
       "0  US-2017-102638 2017-12-29 2017-12-31   First Class    MC-17845   \n",
       "1  US-2017-162068 2017-12-28 2017-12-31  Second Class    PC-18745   \n",
       "2  CA-2017-101322 2017-12-28 2017-12-31   First Class    JG-15310   \n",
       "3  CA-2017-134404 2017-12-27 2017-12-27      Same Day    DR-12880   \n",
       "4  CA-2017-134404 2017-12-27 2017-12-27      Same Day    DR-12880   \n",
       "\n",
       "     Customer Name    Segment        Country           City       State  \\\n",
       "0     Michael Chen   Consumer  United States  New York City    New York   \n",
       "1   Pamela Coakley  Corporate  United States       Loveland    Colorado   \n",
       "2      Jason Gross  Corporate  United States     Long Beach  California   \n",
       "3  Dan Reichenbach  Corporate  United States         Newark        Ohio   \n",
       "4  Dan Reichenbach  Corporate  United States         Newark        Ohio   \n",
       "\n",
       "   Postal Code Region       Product ID         Category Sub-Category  \\\n",
       "0        10035   East  OFF-FA-10002988  Office Supplies    Fasteners   \n",
       "1        80538   West  OFF-BI-10002813  Office Supplies      Binders   \n",
       "2        90805   West  FUR-CH-10003968        Furniture       Chairs   \n",
       "3        43055   East  TEC-PH-10000576       Technology       Phones   \n",
       "4        43055   East  OFF-AR-10004441  Office Supplies          Art   \n",
       "\n",
       "                                Product Name    Sales  Quantity  Discount  \\\n",
       "0                               Ideal Clamps    6.030         3       0.0   \n",
       "1  Avery Reinforcements for Hole-Punch Pages    1.188         2       0.7   \n",
       "2                   Novimex Turbo Task Chair  340.704         6       0.2   \n",
       "3                     AT&T 1080 Corded phone  164.388         2       0.4   \n",
       "4               BIC Brite Liner Highlighters   13.248         4       0.2   \n",
       "\n",
       "    Profit  \n",
       "0   2.9547  \n",
       "1  -0.9900  \n",
       "2 -34.0704  \n",
       "3 -35.6174  \n",
       "4   3.6432  "
      ]
     },
     "execution_count": 2,
     "metadata": {},
     "output_type": "execute_result"
    }
   ],
   "source": [
    "df = pd.read_excel(\"Super Store Data.xlsx\")\n",
    "df.head()"
   ]
  },
  {
   "cell_type": "markdown",
   "id": "b9b05dae",
   "metadata": {},
   "source": [
    "### Number of rows and columns"
   ]
  },
  {
   "cell_type": "code",
   "execution_count": 3,
   "id": "349304d2",
   "metadata": {},
   "outputs": [
    {
     "data": {
      "text/plain": [
       "(10004, 20)"
      ]
     },
     "execution_count": 3,
     "metadata": {},
     "output_type": "execute_result"
    }
   ],
   "source": [
    "df.shape"
   ]
  },
  {
   "cell_type": "markdown",
   "id": "500589a3",
   "metadata": {},
   "source": [
    "In the dataframe there are 10004 rows and 20 columns"
   ]
  },
  {
   "cell_type": "markdown",
   "id": "d8b032a1",
   "metadata": {},
   "source": [
    "### View all the columns in the dataframe"
   ]
  },
  {
   "cell_type": "code",
   "execution_count": 4,
   "id": "e0598316",
   "metadata": {},
   "outputs": [
    {
     "data": {
      "text/plain": [
       "Index(['Order ID', 'Order Date', 'Ship Date', 'Ship Mode', 'Customer ID',\n",
       "       'Customer Name', 'Segment', 'Country', 'City', 'State', 'Postal Code',\n",
       "       'Region', 'Product ID', 'Category', 'Sub-Category', 'Product Name',\n",
       "       'Sales', 'Quantity', 'Discount', 'Profit'],\n",
       "      dtype='object')"
      ]
     },
     "execution_count": 4,
     "metadata": {},
     "output_type": "execute_result"
    }
   ],
   "source": [
    "df.columns"
   ]
  },
  {
   "cell_type": "markdown",
   "id": "4784b99f",
   "metadata": {},
   "source": [
    "### View the information like range index, data type and number of non - null entries"
   ]
  },
  {
   "cell_type": "code",
   "execution_count": 5,
   "id": "531611bf",
   "metadata": {},
   "outputs": [
    {
     "name": "stdout",
     "output_type": "stream",
     "text": [
      "<class 'pandas.core.frame.DataFrame'>\n",
      "RangeIndex: 10004 entries, 0 to 10003\n",
      "Data columns (total 20 columns):\n",
      " #   Column         Non-Null Count  Dtype         \n",
      "---  ------         --------------  -----         \n",
      " 0   Order ID       10004 non-null  object        \n",
      " 1   Order Date     10004 non-null  datetime64[ns]\n",
      " 2   Ship Date      10004 non-null  datetime64[ns]\n",
      " 3   Ship Mode      10004 non-null  object        \n",
      " 4   Customer ID    10004 non-null  object        \n",
      " 5   Customer Name  10004 non-null  object        \n",
      " 6   Segment        10004 non-null  object        \n",
      " 7   Country        10004 non-null  object        \n",
      " 8   City           10004 non-null  object        \n",
      " 9   State          10004 non-null  object        \n",
      " 10  Postal Code    10004 non-null  int64         \n",
      " 11  Region         10004 non-null  object        \n",
      " 12  Product ID     10004 non-null  object        \n",
      " 13  Category       10004 non-null  object        \n",
      " 14  Sub-Category   10004 non-null  object        \n",
      " 15  Product Name   10004 non-null  object        \n",
      " 16  Sales          10004 non-null  float64       \n",
      " 17  Quantity       10004 non-null  int64         \n",
      " 18  Discount       10004 non-null  float64       \n",
      " 19  Profit         10004 non-null  float64       \n",
      "dtypes: datetime64[ns](2), float64(3), int64(2), object(13)\n",
      "memory usage: 1.5+ MB\n"
     ]
    }
   ],
   "source": [
    "df.info()"
   ]
  },
  {
   "cell_type": "markdown",
   "id": "288317d5",
   "metadata": {},
   "source": [
    "### Convert postal code to string "
   ]
  },
  {
   "cell_type": "code",
   "execution_count": 6,
   "id": "9c07ddc7",
   "metadata": {},
   "outputs": [],
   "source": [
    "df['Postal Code'] = df['Postal Code'].astype('str')"
   ]
  },
  {
   "cell_type": "markdown",
   "id": "efd75a87",
   "metadata": {},
   "source": [
    "### Check for the datatypes"
   ]
  },
  {
   "cell_type": "code",
   "execution_count": 7,
   "id": "7b76e1e3",
   "metadata": {},
   "outputs": [
    {
     "data": {
      "text/plain": [
       "Order ID                 object\n",
       "Order Date       datetime64[ns]\n",
       "Ship Date        datetime64[ns]\n",
       "Ship Mode                object\n",
       "Customer ID              object\n",
       "Customer Name            object\n",
       "Segment                  object\n",
       "Country                  object\n",
       "City                     object\n",
       "State                    object\n",
       "Postal Code              object\n",
       "Region                   object\n",
       "Product ID               object\n",
       "Category                 object\n",
       "Sub-Category             object\n",
       "Product Name             object\n",
       "Sales                   float64\n",
       "Quantity                  int64\n",
       "Discount                float64\n",
       "Profit                  float64\n",
       "dtype: object"
      ]
     },
     "execution_count": 7,
     "metadata": {},
     "output_type": "execute_result"
    }
   ],
   "source": [
    "df.dtypes"
   ]
  },
  {
   "cell_type": "markdown",
   "id": "125d9a7e",
   "metadata": {},
   "source": [
    "### Check for null values"
   ]
  },
  {
   "cell_type": "code",
   "execution_count": 8,
   "id": "041fe614",
   "metadata": {},
   "outputs": [
    {
     "data": {
      "text/plain": [
       "Order ID         0\n",
       "Order Date       0\n",
       "Ship Date        0\n",
       "Ship Mode        0\n",
       "Customer ID      0\n",
       "Customer Name    0\n",
       "Segment          0\n",
       "Country          0\n",
       "City             0\n",
       "State            0\n",
       "Postal Code      0\n",
       "Region           0\n",
       "Product ID       0\n",
       "Category         0\n",
       "Sub-Category     0\n",
       "Product Name     0\n",
       "Sales            0\n",
       "Quantity         0\n",
       "Discount         0\n",
       "Profit           0\n",
       "dtype: int64"
      ]
     },
     "execution_count": 8,
     "metadata": {},
     "output_type": "execute_result"
    }
   ],
   "source": [
    "df.isnull().sum()"
   ]
  },
  {
   "cell_type": "markdown",
   "id": "94d11f6d",
   "metadata": {},
   "source": [
    "There are no null values over the entire dataset"
   ]
  },
  {
   "cell_type": "markdown",
   "id": "87b44315",
   "metadata": {},
   "source": [
    "### View unique categories in the dataset"
   ]
  },
  {
   "cell_type": "code",
   "execution_count": 9,
   "id": "c1fed036",
   "metadata": {},
   "outputs": [
    {
     "data": {
      "text/plain": [
       "array(['Office Supplies', 'Furniture', 'Technology'], dtype=object)"
      ]
     },
     "execution_count": 9,
     "metadata": {},
     "output_type": "execute_result"
    }
   ],
   "source": [
    "df['Category'].unique()"
   ]
  },
  {
   "cell_type": "markdown",
   "id": "eca9f0ed",
   "metadata": {},
   "source": [
    "### Unique states in the dataset"
   ]
  },
  {
   "cell_type": "code",
   "execution_count": 10,
   "id": "507307db",
   "metadata": {},
   "outputs": [
    {
     "data": {
      "text/plain": [
       "array(['New York', 'Colorado', 'California', 'Ohio', 'Nebraska',\n",
       "       'Alabama', 'Washington', 'New Jersey', 'Kentucky', 'Florida',\n",
       "       'Arizona', 'Idaho', 'Louisiana', 'Massachusetts', 'Texas',\n",
       "       'Connecticut', 'Arkansas', 'Tennessee', 'Illinois', 'Missouri',\n",
       "       'Rhode Island', 'New Mexico', 'Minnesota', 'Michigan', 'Indiana',\n",
       "       'South Carolina', 'Wisconsin', 'Pennsylvania', 'North Carolina',\n",
       "       'Virginia', 'Oklahoma', 'Iowa', 'Mississippi', 'Nevada', 'Vermont',\n",
       "       'Delaware', 'Maryland', 'Georgia', 'Kansas', 'Oregon',\n",
       "       'South Dakota', 'Utah', 'West Virginia', 'Montana',\n",
       "       'New Hampshire', 'North Dakota', 'District of Columbia', 'Wyoming',\n",
       "       'Maine'], dtype=object)"
      ]
     },
     "execution_count": 10,
     "metadata": {},
     "output_type": "execute_result"
    }
   ],
   "source": [
    "df['State'].unique()"
   ]
  },
  {
   "cell_type": "markdown",
   "id": "ff90e689",
   "metadata": {},
   "source": [
    "### To view the number of unique entries in a column"
   ]
  },
  {
   "cell_type": "code",
   "execution_count": 11,
   "id": "9b89fe14",
   "metadata": {},
   "outputs": [
    {
     "name": "stdout",
     "output_type": "stream",
     "text": [
      "There are 49 states in the dataframe.\n"
     ]
    }
   ],
   "source": [
    "number_of_states = df['State'].nunique()\n",
    "print(f'There are {number_of_states} states in the dataframe.')"
   ]
  },
  {
   "cell_type": "markdown",
   "id": "a5cd41ed",
   "metadata": {},
   "source": [
    "### Unique Sub-Category"
   ]
  },
  {
   "cell_type": "code",
   "execution_count": 12,
   "id": "d4fdd19c",
   "metadata": {},
   "outputs": [
    {
     "data": {
      "text/plain": [
       "array(['Fasteners', 'Binders', 'Chairs', 'Phones', 'Art', 'Storage',\n",
       "       'Furnishings', 'Accessories', 'Tables', 'Bookcases', 'Paper',\n",
       "       'Machines', 'Appliances', 'Copiers', 'Envelopes', 'Supplies',\n",
       "       'Labels'], dtype=object)"
      ]
     },
     "execution_count": 12,
     "metadata": {},
     "output_type": "execute_result"
    }
   ],
   "source": [
    "df['Sub-Category'].unique()"
   ]
  },
  {
   "cell_type": "code",
   "execution_count": 13,
   "id": "b37a38e1",
   "metadata": {},
   "outputs": [
    {
     "name": "stdout",
     "output_type": "stream",
     "text": [
      "Categories are divided into 17 sub-categories.\n"
     ]
    }
   ],
   "source": [
    "number_of_subcategory = df['Sub-Category'].nunique()\n",
    "print(f'Categories are divided into {number_of_subcategory} sub-categories.')"
   ]
  },
  {
   "cell_type": "code",
   "execution_count": 14,
   "id": "d09d36a2",
   "metadata": {},
   "outputs": [
    {
     "data": {
      "text/plain": [
       "Consumer       5198\n",
       "Corporate      3022\n",
       "Home Office    1784\n",
       "Name: Segment, dtype: int64"
      ]
     },
     "execution_count": 14,
     "metadata": {},
     "output_type": "execute_result"
    }
   ],
   "source": [
    "df['Segment'].value_counts()"
   ]
  },
  {
   "cell_type": "markdown",
   "id": "ae30ad38",
   "metadata": {},
   "source": [
    "### Statistical Description of the Dataframe"
   ]
  },
  {
   "cell_type": "code",
   "execution_count": 15,
   "id": "2c28655e",
   "metadata": {},
   "outputs": [
    {
     "data": {
      "text/html": [
       "<div>\n",
       "<style scoped>\n",
       "    .dataframe tbody tr th:only-of-type {\n",
       "        vertical-align: middle;\n",
       "    }\n",
       "\n",
       "    .dataframe tbody tr th {\n",
       "        vertical-align: top;\n",
       "    }\n",
       "\n",
       "    .dataframe thead th {\n",
       "        text-align: right;\n",
       "    }\n",
       "</style>\n",
       "<table border=\"1\" class=\"dataframe\">\n",
       "  <thead>\n",
       "    <tr style=\"text-align: right;\">\n",
       "      <th></th>\n",
       "      <th>Sales</th>\n",
       "      <th>Quantity</th>\n",
       "      <th>Discount</th>\n",
       "      <th>Profit</th>\n",
       "    </tr>\n",
       "  </thead>\n",
       "  <tbody>\n",
       "    <tr>\n",
       "      <th>count</th>\n",
       "      <td>10004.000000</td>\n",
       "      <td>10004.000000</td>\n",
       "      <td>10004.000000</td>\n",
       "      <td>10004.000000</td>\n",
       "    </tr>\n",
       "    <tr>\n",
       "      <th>mean</th>\n",
       "      <td>229.758992</td>\n",
       "      <td>3.788585</td>\n",
       "      <td>0.156147</td>\n",
       "      <td>28.655887</td>\n",
       "    </tr>\n",
       "    <tr>\n",
       "      <th>std</th>\n",
       "      <td>622.953196</td>\n",
       "      <td>2.224837</td>\n",
       "      <td>0.206381</td>\n",
       "      <td>234.145100</td>\n",
       "    </tr>\n",
       "    <tr>\n",
       "      <th>min</th>\n",
       "      <td>0.444000</td>\n",
       "      <td>1.000000</td>\n",
       "      <td>0.000000</td>\n",
       "      <td>-6599.978000</td>\n",
       "    </tr>\n",
       "    <tr>\n",
       "      <th>25%</th>\n",
       "      <td>17.280000</td>\n",
       "      <td>2.000000</td>\n",
       "      <td>0.000000</td>\n",
       "      <td>1.732125</td>\n",
       "    </tr>\n",
       "    <tr>\n",
       "      <th>50%</th>\n",
       "      <td>54.490000</td>\n",
       "      <td>3.000000</td>\n",
       "      <td>0.200000</td>\n",
       "      <td>8.671250</td>\n",
       "    </tr>\n",
       "    <tr>\n",
       "      <th>75%</th>\n",
       "      <td>209.947500</td>\n",
       "      <td>5.000000</td>\n",
       "      <td>0.200000</td>\n",
       "      <td>29.364000</td>\n",
       "    </tr>\n",
       "    <tr>\n",
       "      <th>max</th>\n",
       "      <td>22638.480000</td>\n",
       "      <td>14.000000</td>\n",
       "      <td>0.800000</td>\n",
       "      <td>8399.976000</td>\n",
       "    </tr>\n",
       "  </tbody>\n",
       "</table>\n",
       "</div>"
      ],
      "text/plain": [
       "              Sales      Quantity      Discount        Profit\n",
       "count  10004.000000  10004.000000  10004.000000  10004.000000\n",
       "mean     229.758992      3.788585      0.156147     28.655887\n",
       "std      622.953196      2.224837      0.206381    234.145100\n",
       "min        0.444000      1.000000      0.000000  -6599.978000\n",
       "25%       17.280000      2.000000      0.000000      1.732125\n",
       "50%       54.490000      3.000000      0.200000      8.671250\n",
       "75%      209.947500      5.000000      0.200000     29.364000\n",
       "max    22638.480000     14.000000      0.800000   8399.976000"
      ]
     },
     "execution_count": 15,
     "metadata": {},
     "output_type": "execute_result"
    }
   ],
   "source": [
    "df.describe()"
   ]
  },
  {
   "cell_type": "markdown",
   "id": "767cda9a",
   "metadata": {},
   "source": [
    "### Creating Loss Dataframe"
   ]
  },
  {
   "cell_type": "code",
   "execution_count": 16,
   "id": "f45d973b",
   "metadata": {},
   "outputs": [],
   "source": [
    "loss_df = df[df['Profit'] < 0]"
   ]
  },
  {
   "cell_type": "markdown",
   "id": "7ddfa123",
   "metadata": {},
   "source": [
    "This will create a new dataframe with all the features where profit is less than zero"
   ]
  },
  {
   "cell_type": "code",
   "execution_count": 17,
   "id": "ce1f8efd",
   "metadata": {},
   "outputs": [
    {
     "data": {
      "text/html": [
       "<div>\n",
       "<style scoped>\n",
       "    .dataframe tbody tr th:only-of-type {\n",
       "        vertical-align: middle;\n",
       "    }\n",
       "\n",
       "    .dataframe tbody tr th {\n",
       "        vertical-align: top;\n",
       "    }\n",
       "\n",
       "    .dataframe thead th {\n",
       "        text-align: right;\n",
       "    }\n",
       "</style>\n",
       "<table border=\"1\" class=\"dataframe\">\n",
       "  <thead>\n",
       "    <tr style=\"text-align: right;\">\n",
       "      <th></th>\n",
       "      <th>Order ID</th>\n",
       "      <th>Order Date</th>\n",
       "      <th>Ship Date</th>\n",
       "      <th>Ship Mode</th>\n",
       "      <th>Customer ID</th>\n",
       "      <th>Customer Name</th>\n",
       "      <th>Segment</th>\n",
       "      <th>Country</th>\n",
       "      <th>City</th>\n",
       "      <th>State</th>\n",
       "      <th>Postal Code</th>\n",
       "      <th>Region</th>\n",
       "      <th>Product ID</th>\n",
       "      <th>Category</th>\n",
       "      <th>Sub-Category</th>\n",
       "      <th>Product Name</th>\n",
       "      <th>Sales</th>\n",
       "      <th>Quantity</th>\n",
       "      <th>Discount</th>\n",
       "      <th>Profit</th>\n",
       "    </tr>\n",
       "  </thead>\n",
       "  <tbody>\n",
       "    <tr>\n",
       "      <th>1</th>\n",
       "      <td>US-2017-162068</td>\n",
       "      <td>2017-12-28</td>\n",
       "      <td>2017-12-31</td>\n",
       "      <td>Second Class</td>\n",
       "      <td>PC-18745</td>\n",
       "      <td>Pamela Coakley</td>\n",
       "      <td>Corporate</td>\n",
       "      <td>United States</td>\n",
       "      <td>Loveland</td>\n",
       "      <td>Colorado</td>\n",
       "      <td>80538</td>\n",
       "      <td>West</td>\n",
       "      <td>OFF-BI-10002813</td>\n",
       "      <td>Office Supplies</td>\n",
       "      <td>Binders</td>\n",
       "      <td>Avery Reinforcements for Hole-Punch Pages</td>\n",
       "      <td>1.188</td>\n",
       "      <td>2</td>\n",
       "      <td>0.7</td>\n",
       "      <td>-0.9900</td>\n",
       "    </tr>\n",
       "    <tr>\n",
       "      <th>2</th>\n",
       "      <td>CA-2017-101322</td>\n",
       "      <td>2017-12-28</td>\n",
       "      <td>2017-12-31</td>\n",
       "      <td>First Class</td>\n",
       "      <td>JG-15310</td>\n",
       "      <td>Jason Gross</td>\n",
       "      <td>Corporate</td>\n",
       "      <td>United States</td>\n",
       "      <td>Long Beach</td>\n",
       "      <td>California</td>\n",
       "      <td>90805</td>\n",
       "      <td>West</td>\n",
       "      <td>FUR-CH-10003968</td>\n",
       "      <td>Furniture</td>\n",
       "      <td>Chairs</td>\n",
       "      <td>Novimex Turbo Task Chair</td>\n",
       "      <td>340.704</td>\n",
       "      <td>6</td>\n",
       "      <td>0.2</td>\n",
       "      <td>-34.0704</td>\n",
       "    </tr>\n",
       "    <tr>\n",
       "      <th>3</th>\n",
       "      <td>CA-2017-134404</td>\n",
       "      <td>2017-12-27</td>\n",
       "      <td>2017-12-27</td>\n",
       "      <td>Same Day</td>\n",
       "      <td>DR-12880</td>\n",
       "      <td>Dan Reichenbach</td>\n",
       "      <td>Corporate</td>\n",
       "      <td>United States</td>\n",
       "      <td>Newark</td>\n",
       "      <td>Ohio</td>\n",
       "      <td>43055</td>\n",
       "      <td>East</td>\n",
       "      <td>TEC-PH-10000576</td>\n",
       "      <td>Technology</td>\n",
       "      <td>Phones</td>\n",
       "      <td>AT&amp;T 1080 Corded phone</td>\n",
       "      <td>164.388</td>\n",
       "      <td>2</td>\n",
       "      <td>0.4</td>\n",
       "      <td>-35.6174</td>\n",
       "    </tr>\n",
       "    <tr>\n",
       "      <th>5</th>\n",
       "      <td>CA-2017-112487</td>\n",
       "      <td>2017-12-26</td>\n",
       "      <td>2017-12-30</td>\n",
       "      <td>Standard Class</td>\n",
       "      <td>TC-21535</td>\n",
       "      <td>Tracy Collins</td>\n",
       "      <td>Home Office</td>\n",
       "      <td>United States</td>\n",
       "      <td>Columbus</td>\n",
       "      <td>Ohio</td>\n",
       "      <td>43229</td>\n",
       "      <td>East</td>\n",
       "      <td>OFF-BI-10000494</td>\n",
       "      <td>Office Supplies</td>\n",
       "      <td>Binders</td>\n",
       "      <td>Acco Economy Flexible Poly Round Ring Binder</td>\n",
       "      <td>3.132</td>\n",
       "      <td>2</td>\n",
       "      <td>0.7</td>\n",
       "      <td>-2.6100</td>\n",
       "    </tr>\n",
       "    <tr>\n",
       "      <th>9</th>\n",
       "      <td>US-2017-147669</td>\n",
       "      <td>2017-12-25</td>\n",
       "      <td>2017-12-30</td>\n",
       "      <td>Standard Class</td>\n",
       "      <td>SV-20935</td>\n",
       "      <td>Susan Vittorini</td>\n",
       "      <td>Consumer</td>\n",
       "      <td>United States</td>\n",
       "      <td>Fairfield</td>\n",
       "      <td>Ohio</td>\n",
       "      <td>45014</td>\n",
       "      <td>East</td>\n",
       "      <td>OFF-BI-10000632</td>\n",
       "      <td>Office Supplies</td>\n",
       "      <td>Binders</td>\n",
       "      <td>Satellite Sectional Post Binders</td>\n",
       "      <td>13.023</td>\n",
       "      <td>1</td>\n",
       "      <td>0.7</td>\n",
       "      <td>-10.4184</td>\n",
       "    </tr>\n",
       "    <tr>\n",
       "      <th>...</th>\n",
       "      <td>...</td>\n",
       "      <td>...</td>\n",
       "      <td>...</td>\n",
       "      <td>...</td>\n",
       "      <td>...</td>\n",
       "      <td>...</td>\n",
       "      <td>...</td>\n",
       "      <td>...</td>\n",
       "      <td>...</td>\n",
       "      <td>...</td>\n",
       "      <td>...</td>\n",
       "      <td>...</td>\n",
       "      <td>...</td>\n",
       "      <td>...</td>\n",
       "      <td>...</td>\n",
       "      <td>...</td>\n",
       "      <td>...</td>\n",
       "      <td>...</td>\n",
       "      <td>...</td>\n",
       "      <td>...</td>\n",
       "    </tr>\n",
       "    <tr>\n",
       "      <th>9993</th>\n",
       "      <td>CA-2017-163860</td>\n",
       "      <td>2017-12-28</td>\n",
       "      <td>2018-01-01</td>\n",
       "      <td>Standard Class</td>\n",
       "      <td>LO-17170</td>\n",
       "      <td>Lori Olson</td>\n",
       "      <td>Corporate</td>\n",
       "      <td>United States</td>\n",
       "      <td>Peoria</td>\n",
       "      <td>Illinois</td>\n",
       "      <td>61604</td>\n",
       "      <td>Central</td>\n",
       "      <td>FUR-CH-10004698</td>\n",
       "      <td>Furniture</td>\n",
       "      <td>Chairs</td>\n",
       "      <td>Padded Folding Chairs, Black, 4/Carton</td>\n",
       "      <td>113.372</td>\n",
       "      <td>2</td>\n",
       "      <td>0.3</td>\n",
       "      <td>-3.2392</td>\n",
       "    </tr>\n",
       "    <tr>\n",
       "      <th>9994</th>\n",
       "      <td>CA-2017-163860</td>\n",
       "      <td>2017-12-28</td>\n",
       "      <td>2018-01-01</td>\n",
       "      <td>Standard Class</td>\n",
       "      <td>LO-17170</td>\n",
       "      <td>Lori Olson</td>\n",
       "      <td>Corporate</td>\n",
       "      <td>United States</td>\n",
       "      <td>Peoria</td>\n",
       "      <td>Illinois</td>\n",
       "      <td>61604</td>\n",
       "      <td>Central</td>\n",
       "      <td>FUR-FU-10001935</td>\n",
       "      <td>Furniture</td>\n",
       "      <td>Furnishings</td>\n",
       "      <td>3M Hangers With Command Adhesive</td>\n",
       "      <td>2.960</td>\n",
       "      <td>2</td>\n",
       "      <td>0.6</td>\n",
       "      <td>-1.4060</td>\n",
       "    </tr>\n",
       "    <tr>\n",
       "      <th>9999</th>\n",
       "      <td>CA-2017-134194</td>\n",
       "      <td>2017-12-25</td>\n",
       "      <td>2018-01-01</td>\n",
       "      <td>Standard Class</td>\n",
       "      <td>GA-14725</td>\n",
       "      <td>Guy Armstrong</td>\n",
       "      <td>Consumer</td>\n",
       "      <td>United States</td>\n",
       "      <td>Dallas</td>\n",
       "      <td>Texas</td>\n",
       "      <td>75081</td>\n",
       "      <td>Central</td>\n",
       "      <td>OFF-BI-10003684</td>\n",
       "      <td>Office Supplies</td>\n",
       "      <td>Binders</td>\n",
       "      <td>Wilson Jones Legal Size Ring Binders</td>\n",
       "      <td>39.582</td>\n",
       "      <td>9</td>\n",
       "      <td>0.8</td>\n",
       "      <td>-59.3730</td>\n",
       "    </tr>\n",
       "    <tr>\n",
       "      <th>10002</th>\n",
       "      <td>CA-2017-134194</td>\n",
       "      <td>2017-12-25</td>\n",
       "      <td>2018-01-01</td>\n",
       "      <td>Standard Class</td>\n",
       "      <td>GA-14725</td>\n",
       "      <td>Guy Armstrong</td>\n",
       "      <td>Consumer</td>\n",
       "      <td>United States</td>\n",
       "      <td>Dallas</td>\n",
       "      <td>Texas</td>\n",
       "      <td>75081</td>\n",
       "      <td>Central</td>\n",
       "      <td>OFF-BI-10001597</td>\n",
       "      <td>Office Supplies</td>\n",
       "      <td>Binders</td>\n",
       "      <td>Wilson Jones Ledger-Size, Piano-Hinge Binder, ...</td>\n",
       "      <td>40.980</td>\n",
       "      <td>5</td>\n",
       "      <td>0.8</td>\n",
       "      <td>-65.5680</td>\n",
       "    </tr>\n",
       "    <tr>\n",
       "      <th>10003</th>\n",
       "      <td>CA-2017-134194</td>\n",
       "      <td>2017-12-25</td>\n",
       "      <td>2018-01-01</td>\n",
       "      <td>Standard Class</td>\n",
       "      <td>GA-14725</td>\n",
       "      <td>Guy Armstrong</td>\n",
       "      <td>Consumer</td>\n",
       "      <td>United States</td>\n",
       "      <td>Dallas</td>\n",
       "      <td>Texas</td>\n",
       "      <td>75081</td>\n",
       "      <td>Central</td>\n",
       "      <td>OFF-BI-10001116</td>\n",
       "      <td>Office Supplies</td>\n",
       "      <td>Binders</td>\n",
       "      <td>Wilson Jones 1\" Hanging DublLock Ring Binders</td>\n",
       "      <td>3.168</td>\n",
       "      <td>3</td>\n",
       "      <td>0.8</td>\n",
       "      <td>-5.0688</td>\n",
       "    </tr>\n",
       "  </tbody>\n",
       "</table>\n",
       "<p>1872 rows × 20 columns</p>\n",
       "</div>"
      ],
      "text/plain": [
       "             Order ID Order Date  Ship Date       Ship Mode Customer ID  \\\n",
       "1      US-2017-162068 2017-12-28 2017-12-31    Second Class    PC-18745   \n",
       "2      CA-2017-101322 2017-12-28 2017-12-31     First Class    JG-15310   \n",
       "3      CA-2017-134404 2017-12-27 2017-12-27        Same Day    DR-12880   \n",
       "5      CA-2017-112487 2017-12-26 2017-12-30  Standard Class    TC-21535   \n",
       "9      US-2017-147669 2017-12-25 2017-12-30  Standard Class    SV-20935   \n",
       "...               ...        ...        ...             ...         ...   \n",
       "9993   CA-2017-163860 2017-12-28 2018-01-01  Standard Class    LO-17170   \n",
       "9994   CA-2017-163860 2017-12-28 2018-01-01  Standard Class    LO-17170   \n",
       "9999   CA-2017-134194 2017-12-25 2018-01-01  Standard Class    GA-14725   \n",
       "10002  CA-2017-134194 2017-12-25 2018-01-01  Standard Class    GA-14725   \n",
       "10003  CA-2017-134194 2017-12-25 2018-01-01  Standard Class    GA-14725   \n",
       "\n",
       "         Customer Name      Segment        Country        City       State  \\\n",
       "1       Pamela Coakley    Corporate  United States    Loveland    Colorado   \n",
       "2          Jason Gross    Corporate  United States  Long Beach  California   \n",
       "3      Dan Reichenbach    Corporate  United States      Newark        Ohio   \n",
       "5        Tracy Collins  Home Office  United States    Columbus        Ohio   \n",
       "9      Susan Vittorini     Consumer  United States   Fairfield        Ohio   \n",
       "...                ...          ...            ...         ...         ...   \n",
       "9993        Lori Olson    Corporate  United States      Peoria    Illinois   \n",
       "9994        Lori Olson    Corporate  United States      Peoria    Illinois   \n",
       "9999     Guy Armstrong     Consumer  United States      Dallas       Texas   \n",
       "10002    Guy Armstrong     Consumer  United States      Dallas       Texas   \n",
       "10003    Guy Armstrong     Consumer  United States      Dallas       Texas   \n",
       "\n",
       "      Postal Code   Region       Product ID         Category Sub-Category  \\\n",
       "1           80538     West  OFF-BI-10002813  Office Supplies      Binders   \n",
       "2           90805     West  FUR-CH-10003968        Furniture       Chairs   \n",
       "3           43055     East  TEC-PH-10000576       Technology       Phones   \n",
       "5           43229     East  OFF-BI-10000494  Office Supplies      Binders   \n",
       "9           45014     East  OFF-BI-10000632  Office Supplies      Binders   \n",
       "...           ...      ...              ...              ...          ...   \n",
       "9993        61604  Central  FUR-CH-10004698        Furniture       Chairs   \n",
       "9994        61604  Central  FUR-FU-10001935        Furniture  Furnishings   \n",
       "9999        75081  Central  OFF-BI-10003684  Office Supplies      Binders   \n",
       "10002       75081  Central  OFF-BI-10001597  Office Supplies      Binders   \n",
       "10003       75081  Central  OFF-BI-10001116  Office Supplies      Binders   \n",
       "\n",
       "                                            Product Name    Sales  Quantity  \\\n",
       "1              Avery Reinforcements for Hole-Punch Pages    1.188         2   \n",
       "2                               Novimex Turbo Task Chair  340.704         6   \n",
       "3                                 AT&T 1080 Corded phone  164.388         2   \n",
       "5           Acco Economy Flexible Poly Round Ring Binder    3.132         2   \n",
       "9                       Satellite Sectional Post Binders   13.023         1   \n",
       "...                                                  ...      ...       ...   \n",
       "9993              Padded Folding Chairs, Black, 4/Carton  113.372         2   \n",
       "9994                    3M Hangers With Command Adhesive    2.960         2   \n",
       "9999                Wilson Jones Legal Size Ring Binders   39.582         9   \n",
       "10002  Wilson Jones Ledger-Size, Piano-Hinge Binder, ...   40.980         5   \n",
       "10003      Wilson Jones 1\" Hanging DublLock Ring Binders    3.168         3   \n",
       "\n",
       "       Discount   Profit  \n",
       "1           0.7  -0.9900  \n",
       "2           0.2 -34.0704  \n",
       "3           0.4 -35.6174  \n",
       "5           0.7  -2.6100  \n",
       "9           0.7 -10.4184  \n",
       "...         ...      ...  \n",
       "9993        0.3  -3.2392  \n",
       "9994        0.6  -1.4060  \n",
       "9999        0.8 -59.3730  \n",
       "10002       0.8 -65.5680  \n",
       "10003       0.8  -5.0688  \n",
       "\n",
       "[1872 rows x 20 columns]"
      ]
     },
     "execution_count": 17,
     "metadata": {},
     "output_type": "execute_result"
    }
   ],
   "source": [
    "loss_df"
   ]
  },
  {
   "cell_type": "markdown",
   "id": "ed6c5ed0",
   "metadata": {},
   "source": [
    "### Shape of loss_df"
   ]
  },
  {
   "cell_type": "code",
   "execution_count": 18,
   "id": "9aec7e30",
   "metadata": {},
   "outputs": [
    {
     "data": {
      "text/plain": [
       "(1872, 20)"
      ]
     },
     "execution_count": 18,
     "metadata": {},
     "output_type": "execute_result"
    }
   ],
   "source": [
    "loss_df.shape"
   ]
  },
  {
   "cell_type": "markdown",
   "id": "fbfb0e7e",
   "metadata": {},
   "source": [
    "There are 1872 rows and 20 columns"
   ]
  },
  {
   "cell_type": "markdown",
   "id": "2817cd09",
   "metadata": {},
   "source": [
    "### Statistical description of the loss dataframe"
   ]
  },
  {
   "cell_type": "code",
   "execution_count": 19,
   "id": "c89c1671",
   "metadata": {},
   "outputs": [
    {
     "data": {
      "text/html": [
       "<div>\n",
       "<style scoped>\n",
       "    .dataframe tbody tr th:only-of-type {\n",
       "        vertical-align: middle;\n",
       "    }\n",
       "\n",
       "    .dataframe tbody tr th {\n",
       "        vertical-align: top;\n",
       "    }\n",
       "\n",
       "    .dataframe thead th {\n",
       "        text-align: right;\n",
       "    }\n",
       "</style>\n",
       "<table border=\"1\" class=\"dataframe\">\n",
       "  <thead>\n",
       "    <tr style=\"text-align: right;\">\n",
       "      <th></th>\n",
       "      <th>Sales</th>\n",
       "      <th>Quantity</th>\n",
       "      <th>Discount</th>\n",
       "      <th>Profit</th>\n",
       "    </tr>\n",
       "  </thead>\n",
       "  <tbody>\n",
       "    <tr>\n",
       "      <th>count</th>\n",
       "      <td>1872.000000</td>\n",
       "      <td>1872.000000</td>\n",
       "      <td>1872.000000</td>\n",
       "      <td>1872.000000</td>\n",
       "    </tr>\n",
       "    <tr>\n",
       "      <th>mean</th>\n",
       "      <td>250.379369</td>\n",
       "      <td>3.762286</td>\n",
       "      <td>0.480737</td>\n",
       "      <td>-83.403788</td>\n",
       "    </tr>\n",
       "    <tr>\n",
       "      <th>std</th>\n",
       "      <td>714.899063</td>\n",
       "      <td>2.140847</td>\n",
       "      <td>0.235107</td>\n",
       "      <td>284.353850</td>\n",
       "    </tr>\n",
       "    <tr>\n",
       "      <th>min</th>\n",
       "      <td>0.444000</td>\n",
       "      <td>1.000000</td>\n",
       "      <td>0.100000</td>\n",
       "      <td>-6599.978000</td>\n",
       "    </tr>\n",
       "    <tr>\n",
       "      <th>25%</th>\n",
       "      <td>12.442500</td>\n",
       "      <td>2.000000</td>\n",
       "      <td>0.200000</td>\n",
       "      <td>-58.647825</td>\n",
       "    </tr>\n",
       "    <tr>\n",
       "      <th>50%</th>\n",
       "      <td>71.029000</td>\n",
       "      <td>3.000000</td>\n",
       "      <td>0.400000</td>\n",
       "      <td>-18.073500</td>\n",
       "    </tr>\n",
       "    <tr>\n",
       "      <th>75%</th>\n",
       "      <td>284.643000</td>\n",
       "      <td>5.000000</td>\n",
       "      <td>0.700000</td>\n",
       "      <td>-6.237000</td>\n",
       "    </tr>\n",
       "    <tr>\n",
       "      <th>max</th>\n",
       "      <td>22638.480000</td>\n",
       "      <td>14.000000</td>\n",
       "      <td>0.800000</td>\n",
       "      <td>-0.089500</td>\n",
       "    </tr>\n",
       "  </tbody>\n",
       "</table>\n",
       "</div>"
      ],
      "text/plain": [
       "              Sales     Quantity     Discount       Profit\n",
       "count   1872.000000  1872.000000  1872.000000  1872.000000\n",
       "mean     250.379369     3.762286     0.480737   -83.403788\n",
       "std      714.899063     2.140847     0.235107   284.353850\n",
       "min        0.444000     1.000000     0.100000 -6599.978000\n",
       "25%       12.442500     2.000000     0.200000   -58.647825\n",
       "50%       71.029000     3.000000     0.400000   -18.073500\n",
       "75%      284.643000     5.000000     0.700000    -6.237000\n",
       "max    22638.480000    14.000000     0.800000    -0.089500"
      ]
     },
     "execution_count": 19,
     "metadata": {},
     "output_type": "execute_result"
    }
   ],
   "source": [
    "loss_df.describe()"
   ]
  },
  {
   "cell_type": "markdown",
   "id": "e7ae6483",
   "metadata": {},
   "source": [
    "### Total Loss"
   ]
  },
  {
   "cell_type": "code",
   "execution_count": 20,
   "id": "ae8f8db0",
   "metadata": {},
   "outputs": [
    {
     "name": "stdout",
     "output_type": "stream",
     "text": [
      "Total Loss = 156131.8905\n"
     ]
    }
   ],
   "source": [
    "total_loss = np.negative(loss_df['Profit'].sum())\n",
    "print(f'Total Loss = {total_loss}')"
   ]
  },
  {
   "cell_type": "code",
   "execution_count": 21,
   "id": "b1fa5819",
   "metadata": {},
   "outputs": [
    {
     "data": {
      "text/html": [
       "<div>\n",
       "<style scoped>\n",
       "    .dataframe tbody tr th:only-of-type {\n",
       "        vertical-align: middle;\n",
       "    }\n",
       "\n",
       "    .dataframe tbody tr th {\n",
       "        vertical-align: top;\n",
       "    }\n",
       "\n",
       "    .dataframe thead th {\n",
       "        text-align: right;\n",
       "    }\n",
       "</style>\n",
       "<table border=\"1\" class=\"dataframe\">\n",
       "  <thead>\n",
       "    <tr style=\"text-align: right;\">\n",
       "      <th></th>\n",
       "      <th>Sales</th>\n",
       "      <th>Quantity</th>\n",
       "      <th>Discount</th>\n",
       "      <th>Profit</th>\n",
       "    </tr>\n",
       "    <tr>\n",
       "      <th>Segment</th>\n",
       "      <th></th>\n",
       "      <th></th>\n",
       "      <th></th>\n",
       "      <th></th>\n",
       "    </tr>\n",
       "  </thead>\n",
       "  <tbody>\n",
       "    <tr>\n",
       "      <th>Consumer</th>\n",
       "      <td>247199.2700</td>\n",
       "      <td>3654</td>\n",
       "      <td>476.96</td>\n",
       "      <td>-84946.3160</td>\n",
       "    </tr>\n",
       "    <tr>\n",
       "      <th>Corporate</th>\n",
       "      <td>131860.5383</td>\n",
       "      <td>2191</td>\n",
       "      <td>272.00</td>\n",
       "      <td>-44787.2076</td>\n",
       "    </tr>\n",
       "    <tr>\n",
       "      <th>Home Office</th>\n",
       "      <td>89650.3705</td>\n",
       "      <td>1198</td>\n",
       "      <td>150.98</td>\n",
       "      <td>-26398.3669</td>\n",
       "    </tr>\n",
       "  </tbody>\n",
       "</table>\n",
       "</div>"
      ],
      "text/plain": [
       "                   Sales  Quantity  Discount      Profit\n",
       "Segment                                                 \n",
       "Consumer     247199.2700      3654    476.96 -84946.3160\n",
       "Corporate    131860.5383      2191    272.00 -44787.2076\n",
       "Home Office   89650.3705      1198    150.98 -26398.3669"
      ]
     },
     "execution_count": 21,
     "metadata": {},
     "output_type": "execute_result"
    }
   ],
   "source": [
    "loss_df.groupby('Segment').sum()"
   ]
  },
  {
   "cell_type": "markdown",
   "id": "63c6ef07",
   "metadata": {},
   "source": [
    "* This shows that more discount leads to more loss.\n",
    "* To make more profit provide fewer discounts."
   ]
  },
  {
   "cell_type": "code",
   "execution_count": 22,
   "id": "1d01693a",
   "metadata": {},
   "outputs": [
    {
     "data": {
      "text/html": [
       "<div>\n",
       "<style scoped>\n",
       "    .dataframe tbody tr th:only-of-type {\n",
       "        vertical-align: middle;\n",
       "    }\n",
       "\n",
       "    .dataframe tbody tr th {\n",
       "        vertical-align: top;\n",
       "    }\n",
       "\n",
       "    .dataframe thead th {\n",
       "        text-align: right;\n",
       "    }\n",
       "</style>\n",
       "<table border=\"1\" class=\"dataframe\">\n",
       "  <thead>\n",
       "    <tr style=\"text-align: right;\">\n",
       "      <th></th>\n",
       "      <th>Sales</th>\n",
       "      <th>Quantity</th>\n",
       "      <th>Discount</th>\n",
       "      <th>Profit</th>\n",
       "    </tr>\n",
       "    <tr>\n",
       "      <th>Sub-Category</th>\n",
       "      <th></th>\n",
       "      <th></th>\n",
       "      <th></th>\n",
       "      <th></th>\n",
       "    </tr>\n",
       "  </thead>\n",
       "  <tbody>\n",
       "    <tr>\n",
       "      <th>Accessories</th>\n",
       "      <td>10958.8000</td>\n",
       "      <td>330</td>\n",
       "      <td>18.20</td>\n",
       "      <td>-930.6265</td>\n",
       "    </tr>\n",
       "    <tr>\n",
       "      <th>Appliances</th>\n",
       "      <td>3382.5340</td>\n",
       "      <td>235</td>\n",
       "      <td>53.60</td>\n",
       "      <td>-8629.6412</td>\n",
       "    </tr>\n",
       "    <tr>\n",
       "      <th>Binders</th>\n",
       "      <td>36140.6130</td>\n",
       "      <td>2456</td>\n",
       "      <td>452.40</td>\n",
       "      <td>-38510.4964</td>\n",
       "    </tr>\n",
       "    <tr>\n",
       "      <th>Bookcases</th>\n",
       "      <td>48072.7408</td>\n",
       "      <td>422</td>\n",
       "      <td>37.99</td>\n",
       "      <td>-12152.2060</td>\n",
       "    </tr>\n",
       "    <tr>\n",
       "      <th>Chairs</th>\n",
       "      <td>91988.4560</td>\n",
       "      <td>876</td>\n",
       "      <td>61.40</td>\n",
       "      <td>-9880.8413</td>\n",
       "    </tr>\n",
       "    <tr>\n",
       "      <th>Fasteners</th>\n",
       "      <td>152.3040</td>\n",
       "      <td>58</td>\n",
       "      <td>2.60</td>\n",
       "      <td>-33.8000</td>\n",
       "    </tr>\n",
       "    <tr>\n",
       "      <th>Furnishings</th>\n",
       "      <td>12845.8440</td>\n",
       "      <td>597</td>\n",
       "      <td>88.60</td>\n",
       "      <td>-6490.9134</td>\n",
       "    </tr>\n",
       "    <tr>\n",
       "      <th>Machines</th>\n",
       "      <td>72456.2530</td>\n",
       "      <td>157</td>\n",
       "      <td>25.60</td>\n",
       "      <td>-30118.6682</td>\n",
       "    </tr>\n",
       "    <tr>\n",
       "      <th>Phones</th>\n",
       "      <td>35797.8400</td>\n",
       "      <td>476</td>\n",
       "      <td>46.60</td>\n",
       "      <td>-7530.6235</td>\n",
       "    </tr>\n",
       "    <tr>\n",
       "      <th>Storage</th>\n",
       "      <td>37869.0720</td>\n",
       "      <td>569</td>\n",
       "      <td>32.20</td>\n",
       "      <td>-6426.3038</td>\n",
       "    </tr>\n",
       "    <tr>\n",
       "      <th>Supplies</th>\n",
       "      <td>14067.1760</td>\n",
       "      <td>110</td>\n",
       "      <td>6.60</td>\n",
       "      <td>-3015.6219</td>\n",
       "    </tr>\n",
       "    <tr>\n",
       "      <th>Tables</th>\n",
       "      <td>104978.5460</td>\n",
       "      <td>757</td>\n",
       "      <td>74.15</td>\n",
       "      <td>-32412.1483</td>\n",
       "    </tr>\n",
       "  </tbody>\n",
       "</table>\n",
       "</div>"
      ],
      "text/plain": [
       "                    Sales  Quantity  Discount      Profit\n",
       "Sub-Category                                             \n",
       "Accessories    10958.8000       330     18.20   -930.6265\n",
       "Appliances      3382.5340       235     53.60  -8629.6412\n",
       "Binders        36140.6130      2456    452.40 -38510.4964\n",
       "Bookcases      48072.7408       422     37.99 -12152.2060\n",
       "Chairs         91988.4560       876     61.40  -9880.8413\n",
       "Fasteners        152.3040        58      2.60    -33.8000\n",
       "Furnishings    12845.8440       597     88.60  -6490.9134\n",
       "Machines       72456.2530       157     25.60 -30118.6682\n",
       "Phones         35797.8400       476     46.60  -7530.6235\n",
       "Storage        37869.0720       569     32.20  -6426.3038\n",
       "Supplies       14067.1760       110      6.60  -3015.6219\n",
       "Tables        104978.5460       757     74.15 -32412.1483"
      ]
     },
     "execution_count": 22,
     "metadata": {},
     "output_type": "execute_result"
    }
   ],
   "source": [
    "loss_df.groupby('Sub-Category').sum()"
   ]
  },
  {
   "cell_type": "markdown",
   "id": "c8b60929",
   "metadata": {},
   "source": [
    "* Here we can observe more loss in the Binders catogery, machines categoy, and tables category when compared to other categories.\n",
    "\n",
    "* Binders are more getting sold. So even giving less doscount may lead to vast loss.\n",
    "\n",
    "* So better to give discounts on which are getting less sold so that even they will start getting sold more."
   ]
  },
  {
   "cell_type": "code",
   "execution_count": 23,
   "id": "da0c8482",
   "metadata": {},
   "outputs": [
    {
     "data": {
      "text/plain": [
       "Binders        613\n",
       "Chairs         235\n",
       "Tables         203\n",
       "Furnishings    167\n",
       "Storage        161\n",
       "Phones         136\n",
       "Bookcases      109\n",
       "Accessories     91\n",
       "Appliances      67\n",
       "Machines        44\n",
       "Supplies        33\n",
       "Fasteners       13\n",
       "Name: Sub-Category, dtype: int64"
      ]
     },
     "execution_count": 23,
     "metadata": {},
     "output_type": "execute_result"
    }
   ],
   "source": [
    "loss_df['Sub-Category'].value_counts()"
   ]
  },
  {
   "cell_type": "markdown",
   "id": "cf39058b",
   "metadata": {},
   "source": [
    "### List of names of the Top 10 cities where loss is high"
   ]
  },
  {
   "cell_type": "code",
   "execution_count": 24,
   "id": "706305e8",
   "metadata": {},
   "outputs": [
    {
     "data": {
      "text/html": [
       "<div>\n",
       "<style scoped>\n",
       "    .dataframe tbody tr th:only-of-type {\n",
       "        vertical-align: middle;\n",
       "    }\n",
       "\n",
       "    .dataframe tbody tr th {\n",
       "        vertical-align: top;\n",
       "    }\n",
       "\n",
       "    .dataframe thead th {\n",
       "        text-align: right;\n",
       "    }\n",
       "</style>\n",
       "<table border=\"1\" class=\"dataframe\">\n",
       "  <thead>\n",
       "    <tr style=\"text-align: right;\">\n",
       "      <th></th>\n",
       "      <th>Sales</th>\n",
       "      <th>Quantity</th>\n",
       "      <th>Discount</th>\n",
       "      <th>Profit</th>\n",
       "    </tr>\n",
       "    <tr>\n",
       "      <th>City</th>\n",
       "      <th></th>\n",
       "      <th></th>\n",
       "      <th></th>\n",
       "      <th></th>\n",
       "    </tr>\n",
       "  </thead>\n",
       "  <tbody>\n",
       "    <tr>\n",
       "      <th>Philadelphia</th>\n",
       "      <td>70460.5510</td>\n",
       "      <td>892</td>\n",
       "      <td>115.30</td>\n",
       "      <td>-19590.7411</td>\n",
       "    </tr>\n",
       "    <tr>\n",
       "      <th>Houston</th>\n",
       "      <td>37640.7304</td>\n",
       "      <td>683</td>\n",
       "      <td>104.14</td>\n",
       "      <td>-14785.3668</td>\n",
       "    </tr>\n",
       "    <tr>\n",
       "      <th>Chicago</th>\n",
       "      <td>19910.0120</td>\n",
       "      <td>541</td>\n",
       "      <td>88.20</td>\n",
       "      <td>-11120.6271</td>\n",
       "    </tr>\n",
       "    <tr>\n",
       "      <th>San Antonio</th>\n",
       "      <td>17395.1450</td>\n",
       "      <td>139</td>\n",
       "      <td>17.10</td>\n",
       "      <td>-7831.0254</td>\n",
       "    </tr>\n",
       "    <tr>\n",
       "      <th>Lancaster</th>\n",
       "      <td>7699.2420</td>\n",
       "      <td>71</td>\n",
       "      <td>9.40</td>\n",
       "      <td>-7632.4946</td>\n",
       "    </tr>\n",
       "    <tr>\n",
       "      <th>Burlington</th>\n",
       "      <td>12044.8740</td>\n",
       "      <td>19</td>\n",
       "      <td>2.00</td>\n",
       "      <td>-5999.3318</td>\n",
       "    </tr>\n",
       "    <tr>\n",
       "      <th>Dallas</th>\n",
       "      <td>9994.0562</td>\n",
       "      <td>280</td>\n",
       "      <td>39.30</td>\n",
       "      <td>-4208.5218</td>\n",
       "    </tr>\n",
       "    <tr>\n",
       "      <th>Jacksonville</th>\n",
       "      <td>31146.2710</td>\n",
       "      <td>154</td>\n",
       "      <td>18.85</td>\n",
       "      <td>-4059.9857</td>\n",
       "    </tr>\n",
       "    <tr>\n",
       "      <th>New York City</th>\n",
       "      <td>19533.8020</td>\n",
       "      <td>132</td>\n",
       "      <td>12.20</td>\n",
       "      <td>-3966.0226</td>\n",
       "    </tr>\n",
       "    <tr>\n",
       "      <th>Louisville</th>\n",
       "      <td>2884.7840</td>\n",
       "      <td>35</td>\n",
       "      <td>4.90</td>\n",
       "      <td>-3694.1045</td>\n",
       "    </tr>\n",
       "  </tbody>\n",
       "</table>\n",
       "</div>"
      ],
      "text/plain": [
       "                    Sales  Quantity  Discount      Profit\n",
       "City                                                     \n",
       "Philadelphia   70460.5510       892    115.30 -19590.7411\n",
       "Houston        37640.7304       683    104.14 -14785.3668\n",
       "Chicago        19910.0120       541     88.20 -11120.6271\n",
       "San Antonio    17395.1450       139     17.10  -7831.0254\n",
       "Lancaster       7699.2420        71      9.40  -7632.4946\n",
       "Burlington     12044.8740        19      2.00  -5999.3318\n",
       "Dallas          9994.0562       280     39.30  -4208.5218\n",
       "Jacksonville   31146.2710       154     18.85  -4059.9857\n",
       "New York City  19533.8020       132     12.20  -3966.0226\n",
       "Louisville      2884.7840        35      4.90  -3694.1045"
      ]
     },
     "execution_count": 24,
     "metadata": {},
     "output_type": "execute_result"
    }
   ],
   "source": [
    "loss_df.groupby('City').sum().sort_values('Profit', ascending = True).head(10)"
   ]
  },
  {
   "cell_type": "markdown",
   "id": "9ffe421a",
   "metadata": {},
   "source": [
    "### Mean of Sales in each category"
   ]
  },
  {
   "cell_type": "code",
   "execution_count": 25,
   "id": "216d8e7a",
   "metadata": {},
   "outputs": [
    {
     "data": {
      "text/html": [
       "<div>\n",
       "<style scoped>\n",
       "    .dataframe tbody tr th:only-of-type {\n",
       "        vertical-align: middle;\n",
       "    }\n",
       "\n",
       "    .dataframe tbody tr th {\n",
       "        vertical-align: top;\n",
       "    }\n",
       "\n",
       "    .dataframe thead th {\n",
       "        text-align: right;\n",
       "    }\n",
       "</style>\n",
       "<table border=\"1\" class=\"dataframe\">\n",
       "  <thead>\n",
       "    <tr style=\"text-align: right;\">\n",
       "      <th></th>\n",
       "      <th>Sales</th>\n",
       "      <th>Quantity</th>\n",
       "      <th>Discount</th>\n",
       "      <th>Profit</th>\n",
       "    </tr>\n",
       "    <tr>\n",
       "      <th>Category</th>\n",
       "      <th></th>\n",
       "      <th></th>\n",
       "      <th></th>\n",
       "      <th></th>\n",
       "    </tr>\n",
       "  </thead>\n",
       "  <tbody>\n",
       "    <tr>\n",
       "      <th>Furniture</th>\n",
       "      <td>361.184295</td>\n",
       "      <td>3.714286</td>\n",
       "      <td>0.367143</td>\n",
       "      <td>-85.344690</td>\n",
       "    </tr>\n",
       "    <tr>\n",
       "      <th>Office Supplies</th>\n",
       "      <td>103.282637</td>\n",
       "      <td>3.864713</td>\n",
       "      <td>0.617136</td>\n",
       "      <td>-63.828482</td>\n",
       "    </tr>\n",
       "    <tr>\n",
       "      <th>Technology</th>\n",
       "      <td>439.899974</td>\n",
       "      <td>3.553506</td>\n",
       "      <td>0.333579</td>\n",
       "      <td>-142.361322</td>\n",
       "    </tr>\n",
       "  </tbody>\n",
       "</table>\n",
       "</div>"
      ],
      "text/plain": [
       "                      Sales  Quantity  Discount      Profit\n",
       "Category                                                   \n",
       "Furniture        361.184295  3.714286  0.367143  -85.344690\n",
       "Office Supplies  103.282637  3.864713  0.617136  -63.828482\n",
       "Technology       439.899974  3.553506  0.333579 -142.361322"
      ]
     },
     "execution_count": 25,
     "metadata": {},
     "output_type": "execute_result"
    }
   ],
   "source": [
    "loss_df.sort_values(['Sales'], ascending = True).groupby('Category').mean()"
   ]
  },
  {
   "cell_type": "markdown",
   "id": "2deaac15",
   "metadata": {},
   "source": [
    "* We can observe that more loss is in the technology category"
   ]
  },
  {
   "cell_type": "markdown",
   "id": "ecf314c7",
   "metadata": {},
   "source": [
    "### List of the names of Top 10 states where sales are very less"
   ]
  },
  {
   "cell_type": "code",
   "execution_count": 26,
   "id": "4b2578d7",
   "metadata": {},
   "outputs": [
    {
     "data": {
      "text/plain": [
       "State\n",
       "North Dakota             919.910\n",
       "West Virginia           1209.824\n",
       "Maine                   1270.530\n",
       "South Dakota            1315.560\n",
       "Wyoming                 1603.136\n",
       "District of Columbia    2865.020\n",
       "Kansas                  2914.310\n",
       "Idaho                   4382.486\n",
       "Iowa                    4579.760\n",
       "New Mexico              4783.522\n",
       "Name: Sales, dtype: float64"
      ]
     },
     "execution_count": 26,
     "metadata": {},
     "output_type": "execute_result"
    }
   ],
   "source": [
    "df.groupby(['State']).sum()['Sales'].nsmallest(10)"
   ]
  },
  {
   "cell_type": "code",
   "execution_count": 27,
   "id": "85e871e6",
   "metadata": {},
   "outputs": [
    {
     "data": {
      "text/html": [
       "<div>\n",
       "<style scoped>\n",
       "    .dataframe tbody tr th:only-of-type {\n",
       "        vertical-align: middle;\n",
       "    }\n",
       "\n",
       "    .dataframe tbody tr th {\n",
       "        vertical-align: top;\n",
       "    }\n",
       "\n",
       "    .dataframe thead th {\n",
       "        text-align: right;\n",
       "    }\n",
       "</style>\n",
       "<table border=\"1\" class=\"dataframe\">\n",
       "  <thead>\n",
       "    <tr style=\"text-align: right;\">\n",
       "      <th></th>\n",
       "      <th>Sales</th>\n",
       "      <th>Quantity</th>\n",
       "      <th>Discount</th>\n",
       "      <th>Profit</th>\n",
       "    </tr>\n",
       "    <tr>\n",
       "      <th>Segment</th>\n",
       "      <th></th>\n",
       "      <th></th>\n",
       "      <th></th>\n",
       "      <th></th>\n",
       "    </tr>\n",
       "  </thead>\n",
       "  <tbody>\n",
       "    <tr>\n",
       "      <th>Consumer</th>\n",
       "      <td>1.162466e+06</td>\n",
       "      <td>19543</td>\n",
       "      <td>821.51</td>\n",
       "      <td>134328.1783</td>\n",
       "    </tr>\n",
       "    <tr>\n",
       "      <th>Corporate</th>\n",
       "      <td>7.061810e+05</td>\n",
       "      <td>11612</td>\n",
       "      <td>478.25</td>\n",
       "      <td>91990.1278</td>\n",
       "    </tr>\n",
       "    <tr>\n",
       "      <th>Home Office</th>\n",
       "      <td>4.298624e+05</td>\n",
       "      <td>6746</td>\n",
       "      <td>262.33</td>\n",
       "      <td>60355.1895</td>\n",
       "    </tr>\n",
       "  </tbody>\n",
       "</table>\n",
       "</div>"
      ],
      "text/plain": [
       "                    Sales  Quantity  Discount       Profit\n",
       "Segment                                                   \n",
       "Consumer     1.162466e+06     19543    821.51  134328.1783\n",
       "Corporate    7.061810e+05     11612    478.25   91990.1278\n",
       "Home Office  4.298624e+05      6746    262.33   60355.1895"
      ]
     },
     "execution_count": 27,
     "metadata": {},
     "output_type": "execute_result"
    }
   ],
   "source": [
    "df.sort_values(['Segment'], ascending=True).groupby('Segment').sum()"
   ]
  },
  {
   "cell_type": "markdown",
   "id": "a9e1b245",
   "metadata": {},
   "source": [
    "* Here Consumer segment sales might be less when compared to other segments, but this is only segment that provides the highest profit.\n",
    "* So, if we increase sales in this Segment by advertisements or something else then, for sure, we can gain more profits."
   ]
  },
  {
   "cell_type": "code",
   "execution_count": 28,
   "id": "d2c78c7a",
   "metadata": {},
   "outputs": [
    {
     "data": {
      "text/html": [
       "<div>\n",
       "<style scoped>\n",
       "    .dataframe tbody tr th:only-of-type {\n",
       "        vertical-align: middle;\n",
       "    }\n",
       "\n",
       "    .dataframe tbody tr th {\n",
       "        vertical-align: top;\n",
       "    }\n",
       "\n",
       "    .dataframe thead th {\n",
       "        text-align: right;\n",
       "    }\n",
       "</style>\n",
       "<table border=\"1\" class=\"dataframe\">\n",
       "  <thead>\n",
       "    <tr style=\"text-align: right;\">\n",
       "      <th></th>\n",
       "      <th>Sales</th>\n",
       "      <th>Quantity</th>\n",
       "      <th>Discount</th>\n",
       "      <th>Profit</th>\n",
       "    </tr>\n",
       "    <tr>\n",
       "      <th>Region</th>\n",
       "      <th></th>\n",
       "      <th></th>\n",
       "      <th></th>\n",
       "      <th></th>\n",
       "    </tr>\n",
       "  </thead>\n",
       "  <tbody>\n",
       "    <tr>\n",
       "      <th>Central</th>\n",
       "      <td>501449.1908</td>\n",
       "      <td>8782</td>\n",
       "      <td>558.34</td>\n",
       "      <td>39762.8735</td>\n",
       "    </tr>\n",
       "    <tr>\n",
       "      <th>East</th>\n",
       "      <td>679248.0820</td>\n",
       "      <td>10632</td>\n",
       "      <td>414.40</td>\n",
       "      <td>91557.4165</td>\n",
       "    </tr>\n",
       "    <tr>\n",
       "      <th>South</th>\n",
       "      <td>392316.2150</td>\n",
       "      <td>6214</td>\n",
       "      <td>238.55</td>\n",
       "      <td>46924.3677</td>\n",
       "    </tr>\n",
       "    <tr>\n",
       "      <th>West</th>\n",
       "      <td>725495.4725</td>\n",
       "      <td>12273</td>\n",
       "      <td>350.80</td>\n",
       "      <td>108428.8379</td>\n",
       "    </tr>\n",
       "  </tbody>\n",
       "</table>\n",
       "</div>"
      ],
      "text/plain": [
       "               Sales  Quantity  Discount       Profit\n",
       "Region                                               \n",
       "Central  501449.1908      8782    558.34   39762.8735\n",
       "East     679248.0820     10632    414.40   91557.4165\n",
       "South    392316.2150      6214    238.55   46924.3677\n",
       "West     725495.4725     12273    350.80  108428.8379"
      ]
     },
     "execution_count": 28,
     "metadata": {},
     "output_type": "execute_result"
    }
   ],
   "source": [
    "df.groupby('Region').sum()"
   ]
  },
  {
   "cell_type": "markdown",
   "id": "00c059eb",
   "metadata": {},
   "source": [
    "Here we can observe that sales are less in the South Region. So, to get better profits or more sales we should focus on this ares too."
   ]
  },
  {
   "cell_type": "markdown",
   "id": "1cbf9444",
   "metadata": {},
   "source": [
    "## DATA VISUALIZATION"
   ]
  },
  {
   "cell_type": "code",
   "execution_count": 29,
   "id": "0c3d2bbc",
   "metadata": {},
   "outputs": [],
   "source": [
    "plt.rcParams['figure.figsize']=(15,3)"
   ]
  },
  {
   "cell_type": "code",
   "execution_count": 30,
   "id": "ba2476c1",
   "metadata": {},
   "outputs": [
    {
     "data": {
      "image/png": "[encoded data removed]",
      "text/plain": [
       "<Figure size 1080x216 with 1 Axes>"
      ]
     },
     "metadata": {
      "needs_background": "light"
     },
     "output_type": "display_data"
    }
   ],
   "source": [
    "plt.bar(loss_df['Sub-Category'],loss_df['Sales']);\n",
    "plt.rcParams.update({'font.size':10});\n",
    "plt.xlabel('Sub_Category');\n",
    "plt.ylabel('Sales');"
   ]
  },
  {
   "cell_type": "markdown",
   "id": "5ffafb73",
   "metadata": {},
   "source": [
    "Here, we observed that the Sales for Fasteners, Appliances, Furnishing and Accessories is very low."
   ]
  },
  {
   "cell_type": "code",
   "execution_count": 31,
   "id": "036ff380",
   "metadata": {},
   "outputs": [
    {
     "data": {
      "image/png": "[encoded data removed]",
      "text/plain": [
       "<Figure size 2016x576 with 1 Axes>"
      ]
     },
     "metadata": {
      "needs_background": "light"
     },
     "output_type": "display_data"
    }
   ],
   "source": [
    "plt.rcParams['figure.figsize']=(28,8)\n",
    "plt.bar(df['Sub-Category'], df['Sales']);\n",
    "plt.rcParams.update({'font.size':14});\n",
    "plt.xlabel('Sub_Category');\n",
    "plt.ylabel('Sales');"
   ]
  },
  {
   "cell_type": "markdown",
   "id": "8e847c3e",
   "metadata": {},
   "source": [
    "When it comes to comparison in overall supermarket data, Fastners, Labels, Furnishings, Art, paper, Envelopes etc, sub-categories have very fewer sales, that's why it needs to be improves."
   ]
  },
  {
   "cell_type": "code",
   "execution_count": 32,
   "id": "4cfe8f1d",
   "metadata": {},
   "outputs": [
    {
     "data": {
      "image/png": "[encoded data removed]",
      "text/plain": [
       "<Figure size 2016x576 with 1 Axes>"
      ]
     },
     "metadata": {
      "needs_background": "light"
     },
     "output_type": "display_data"
    }
   ],
   "source": [
    "plt.rcParams['figure.figsize']=(28,8)\n",
    "plt.bar(df['Sub-Category'], df['Discount']);\n",
    "plt.rcParams.update({'font.size':14});\n",
    "plt.xlabel('Sub_Category');\n",
    "plt.ylabel('Discount');"
   ]
  },
  {
   "cell_type": "code",
   "execution_count": 33,
   "id": "31fb61a6",
   "metadata": {},
   "outputs": [
    {
     "data": {
      "image/png": "[encoded data removed]",
      "text/plain": [
       "<Figure size 720x576 with 1 Axes>"
      ]
     },
     "metadata": {
      "needs_background": "light"
     },
     "output_type": "display_data"
    }
   ],
   "source": [
    "plt.rcParams['figure.figsize']=(10,8)\n",
    "plt.bar(df['Ship Mode'],df['Sales']);\n",
    "plt.rcParams.update({'font.size':14});\n",
    "plt.xlabel('Ship Mode');\n",
    "plt.ylabel('Sales');"
   ]
  },
  {
   "cell_type": "markdown",
   "id": "ba78bd6b",
   "metadata": {},
   "source": [
    "Here we observe that the sales are high if the ship mode is standard class, and sales are low if the ship mode is wither second class or same day."
   ]
  },
  {
   "cell_type": "code",
   "execution_count": 34,
   "id": "45f6a6d4",
   "metadata": {},
   "outputs": [
    {
     "data": {
      "image/png": "[encoded data removed]",
      "text/plain": [
       "<Figure size 720x360 with 1 Axes>"
      ]
     },
     "metadata": {
      "needs_background": "light"
     },
     "output_type": "display_data"
    }
   ],
   "source": [
    "plt.rcParams['figure.figsize']=(10,5)\n",
    "sns.countplot(x=df.Segment)\n",
    "plt.show();"
   ]
  },
  {
   "cell_type": "markdown",
   "id": "8a27f400",
   "metadata": {},
   "source": [
    "In the Home Office Segment, we observe that the count is less. So convergent strategy and improvement is a necessity for this Segment."
   ]
  },
  {
   "cell_type": "code",
   "execution_count": 35,
   "id": "32752749",
   "metadata": {},
   "outputs": [
    {
     "data": {
      "image/png": "[encoded data removed]",
      "text/plain": [
       "<Figure size 1440x360 with 1 Axes>"
      ]
     },
     "metadata": {
      "needs_background": "light"
     },
     "output_type": "display_data"
    }
   ],
   "source": [
    "plt.rcParams['figure.figsize']=(20,5)\n",
    "plt.rcParams.update({'font.size':12})\n",
    "sns.countplot(x='Sub-Category',data=df)\n",
    "plt.show()"
   ]
  },
  {
   "cell_type": "markdown",
   "id": "1c2abf45",
   "metadata": {},
   "source": [
    "From the above data, it’s very much clear that the Copiers and Machines Subcategory needs improvement."
   ]
  },
  {
   "cell_type": "code",
   "execution_count": 36,
   "id": "45150305",
   "metadata": {},
   "outputs": [
    {
     "data": {
      "image/png": "[encoded data removed]",
      "text/plain": [
       "<Figure size 1440x360 with 1 Axes>"
      ]
     },
     "metadata": {
      "needs_background": "light"
     },
     "output_type": "display_data"
    }
   ],
   "source": [
    "plt.rcParams['figure.figsize']=(20,5)\n",
    "plt.rcParams.update({'font.size':12})\n",
    "sns.countplot(x='Region',data=df)\n",
    "plt.show()"
   ]
  },
  {
   "cell_type": "markdown",
   "id": "3eb17a09",
   "metadata": {},
   "source": [
    "If we look into the data region-wise, we can conclude that the south region needs more improvement compared to others."
   ]
  },
  {
   "cell_type": "markdown",
   "id": "c7042ed9",
   "metadata": {},
   "source": [
    "### Correlation"
   ]
  },
  {
   "cell_type": "code",
   "execution_count": 37,
   "id": "27c47552",
   "metadata": {},
   "outputs": [
    {
     "data": {
      "text/html": [
       "<div>\n",
       "<style scoped>\n",
       "    .dataframe tbody tr th:only-of-type {\n",
       "        vertical-align: middle;\n",
       "    }\n",
       "\n",
       "    .dataframe tbody tr th {\n",
       "        vertical-align: top;\n",
       "    }\n",
       "\n",
       "    .dataframe thead th {\n",
       "        text-align: right;\n",
       "    }\n",
       "</style>\n",
       "<table border=\"1\" class=\"dataframe\">\n",
       "  <thead>\n",
       "    <tr style=\"text-align: right;\">\n",
       "      <th></th>\n",
       "      <th>Sales</th>\n",
       "      <th>Quantity</th>\n",
       "      <th>Discount</th>\n",
       "      <th>Profit</th>\n",
       "    </tr>\n",
       "  </thead>\n",
       "  <tbody>\n",
       "    <tr>\n",
       "      <th>Sales</th>\n",
       "      <td>1.000000</td>\n",
       "      <td>0.200786</td>\n",
       "      <td>-0.028179</td>\n",
       "      <td>0.479065</td>\n",
       "    </tr>\n",
       "    <tr>\n",
       "      <th>Quantity</th>\n",
       "      <td>0.200786</td>\n",
       "      <td>1.000000</td>\n",
       "      <td>0.008739</td>\n",
       "      <td>0.066194</td>\n",
       "    </tr>\n",
       "    <tr>\n",
       "      <th>Discount</th>\n",
       "      <td>-0.028179</td>\n",
       "      <td>0.008739</td>\n",
       "      <td>1.000000</td>\n",
       "      <td>-0.219490</td>\n",
       "    </tr>\n",
       "    <tr>\n",
       "      <th>Profit</th>\n",
       "      <td>0.479065</td>\n",
       "      <td>0.066194</td>\n",
       "      <td>-0.219490</td>\n",
       "      <td>1.000000</td>\n",
       "    </tr>\n",
       "  </tbody>\n",
       "</table>\n",
       "</div>"
      ],
      "text/plain": [
       "             Sales  Quantity  Discount    Profit\n",
       "Sales     1.000000  0.200786 -0.028179  0.479065\n",
       "Quantity  0.200786  1.000000  0.008739  0.066194\n",
       "Discount -0.028179  0.008739  1.000000 -0.219490\n",
       "Profit    0.479065  0.066194 -0.219490  1.000000"
      ]
     },
     "execution_count": 37,
     "metadata": {},
     "output_type": "execute_result"
    }
   ],
   "source": [
    "df.corr()"
   ]
  },
  {
   "cell_type": "code",
   "execution_count": 38,
   "id": "883e6ff8",
   "metadata": {},
   "outputs": [
    {
     "data": {
      "image/png": "[encoded data removed]",
      "text/plain": [
       "<Figure size 1440x360 with 2 Axes>"
      ]
     },
     "metadata": {
      "needs_background": "light"
     },
     "output_type": "display_data"
    }
   ],
   "source": [
    "sns.heatmap(df.corr(),cmap='Reds',annot=True);\n",
    "plt.rcParams['figure.figsize']=(10,5)"
   ]
  },
  {
   "cell_type": "markdown",
   "id": "d36fad24",
   "metadata": {},
   "source": [
    "### Analysis from Heatmap\n",
    "* Sales and Profit are Moderately Correlated\n",
    "* Discount and Profit are Negatively Correlated"
   ]
  },
  {
   "cell_type": "markdown",
   "id": "a35200f9",
   "metadata": {},
   "source": [
    "### Overall Analysis\n",
    "* The main reason which leads to loss is Discount as if some areas lead to loss due to more discounts, and some areas lead to fewer sales due to fewer discounts, hence it needs to be improved.\n",
    "* It is better to give more discounts during festival seasons, additionally, that will result in more sales.\n",
    "* The Home office segment needs better improvement.\n",
    "* Some cities have fewer sales, lack of awareness can be the reason for this, hence advertising in those cities might help in more sales."
   ]
  }
 ],
 "metadata": {
  "kernelspec": {
   "display_name": "Python 3 (ipykernel)",
   "language": "python",
   "name": "python3"
  },
  "language_info": {
   "codemirror_mode": {
    "name": "ipython",
    "version": 3
   },
   "file_extension": ".py",
   "mimetype": "text/x-python",
   "name": "python",
   "nbconvert_exporter": "python",
   "pygments_lexer": "ipython3",
   "version": "3.9.7"
  }
 },
 "nbformat": 4,
 "nbformat_minor": 5
}
